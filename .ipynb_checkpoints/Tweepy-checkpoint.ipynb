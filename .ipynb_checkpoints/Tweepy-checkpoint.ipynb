{
 "cells": [
  {
   "cell_type": "code",
   "execution_count": 17,
   "id": "31c0b887",
   "metadata": {},
   "outputs": [],
   "source": [
    "import tweepy as tw\n",
    "from tweepy import OAuth1UserHandler, API\n",
    "\n",
    "#Getting authorization\n",
    "CONSUMER_KEY = 'MnYGqwr5bielOmBNomvzzSsmd'\n",
    "CONSUMER_SECRET = 'nopkuReuWnK6anNDzA0OlCVb7qe0PKjalfkl92jhWBSoV5qDi2'\n",
    "ACCESS_KEY = '816950453124464640-rVg7obI2s5Go3iYAcToScotHK8d8NI2'\n",
    "ACCESS_SECRET = 'oIKXfzPuxfyZbYr1NfJ4840HCULqKQZgtXTLDNtXrNloB'\n",
    "\n",
    "auth = OAuth1UserHandler(CONSUMER_KEY, CONSUMER_SECRET, ACCESS_KEY, ACCESS_SECRET)\n",
    "api = API(auth)"
   ]
  },
  {
   "cell_type": "code",
   "execution_count": 22,
   "id": "1e595eca",
   "metadata": {},
   "outputs": [],
   "source": [
    "QUERY = \"FIFA\"\n",
    "tweets = api.search_tweets(QUERY, lang=\"en\", tweet_mode=\"extended\", count=5, result_type=\"recent\")"
   ]
  },
  {
   "cell_type": "code",
   "execution_count": 23,
   "id": "1d21bef6",
   "metadata": {},
   "outputs": [
    {
     "name": "stdout",
     "output_type": "stream",
     "text": [
      "RT @lolapalmss1: @AMERICAJUNGKOOK @unitedmasters @KataraStudios @RedOne_Official @YouTube @TeamYouTube @billboardcharts Hello, @unitedmaste…\n",
      "---------------\n",
      "RT @JKTEAM_KOR: @fifaworldcup_ar @bts_bighit Hello @youtubemusic @KataraStudios @RedOne_Official @FIFAWorldCup @FIFAcom @bts_bighit @BIGHIT…\n",
      "---------------\n",
      "RT @jungkooktrends: Hi @YouTube  @TeamYouTube @unitedmasters @RedOne_Official \n",
      "\n",
      "The official MV &amp; performance of “Dreamers” by Jungkook whi…\n",
      "---------------\n",
      "RT @JKTEAM_KOR: Hi @YouTube , @TeamYouTube\n",
      "The official MV &amp; performance of “Dreamers” by Jungkook which were uploaded on FIFA official cha…\n",
      "---------------\n",
      "RT @BrigAshfaqHasan: *Great moment.*\n",
      "*First time in world's *History.*\n",
      "*Whole Qatar FIFA stadium sung together unitedly in favour of Palest…\n",
      "---------------\n"
     ]
    }
   ],
   "source": [
    "for tweet in tweets:\n",
    "    print(tweet.full_text)\n",
    "    print(\"-\"*15)"
   ]
  },
  {
   "cell_type": "code",
   "execution_count": null,
   "id": "430b42a4",
   "metadata": {},
   "outputs": [],
   "source": []
  }
 ],
 "metadata": {
  "kernelspec": {
   "display_name": "Python 3 (ipykernel)",
   "language": "python",
   "name": "python3"
  },
  "language_info": {
   "codemirror_mode": {
    "name": "ipython",
    "version": 3
   },
   "file_extension": ".py",
   "mimetype": "text/x-python",
   "name": "python",
   "nbconvert_exporter": "python",
   "pygments_lexer": "ipython3",
   "version": "3.9.13"
  }
 },
 "nbformat": 4,
 "nbformat_minor": 5
}
