{
 "cells": [
  {
   "cell_type": "code",
   "execution_count": 1,
   "id": "27bb6cf5",
   "metadata": {},
   "outputs": [],
   "source": [
    "import numpy as np\n",
    "import pandas as pd\n",
    "import os\n",
    "import re\n",
    "import nltk\n",
    "import seaborn as sns"
   ]
  },
  {
   "cell_type": "code",
   "execution_count": 2,
   "id": "8123f778",
   "metadata": {},
   "outputs": [],
   "source": [
    "import tweepy as tw  #For extracting twitter data\n",
    "import tensorflow as tf\n",
    "import keras"
   ]
  },
  {
   "cell_type": "code",
   "execution_count": 3,
   "id": "07ed8536",
   "metadata": {},
   "outputs": [
    {
     "name": "stderr",
     "output_type": "stream",
     "text": [
      "[nltk_data] Downloading package stopwords to\n",
      "[nltk_data]     C:\\Users\\prith\\AppData\\Roaming\\nltk_data...\n",
      "[nltk_data]   Package stopwords is already up-to-date!\n"
     ]
    }
   ],
   "source": [
    "nltk.download(\"stopwords\")   #Natural language ToolKit\n",
    "from nltk.corpus import stopwords\n",
    "from nltk.stem.porter import *"
   ]
  },
  {
   "cell_type": "code",
   "execution_count": 42,
   "id": "be1890ea",
   "metadata": {},
   "outputs": [
    {
     "name": "stdout",
     "output_type": "stream",
     "text": [
      "{'o', 'll', 'had', 'did', 'yourself', 'these', 'once', 'because', 'some', 'wouldn', 'too', 'were', 'hers', 'no', 'mightn', 'over', 'as', 'him', 'or', 'why', 'hadn', 'until', 'very', 'to', 'has', 'you', \"don't\", 'being', 'ain', 't', 'shouldn', 'an', 'isn', 'if', 'your', 'while', 'now', \"shan't\", 'it', 'hasn', 'where', 'y', 'own', 'further', 'themselves', 'from', \"hasn't\", 'ourselves', 'me', 'all', \"hadn't\", 'how', 'they', 'himself', 'whom', 'doesn', \"couldn't\", \"won't\", 're', 'are', \"you've\", 'his', \"it's\", 'herself', 'does', 'is', \"doesn't\", 'than', 'having', 'couldn', 'under', 'd', \"that'll\", \"haven't\", \"shouldn't\", 'again', 'have', 'the', 'such', 'mustn', \"you'd\", 'above', 'them', 'ma', \"weren't\", 's', 'most', 'when', 'down', 'then', 'do', 'he', 'before', 'doing', 'other', 'will', 'that', \"mustn't\", 'its', 'at', 'shan', 'should', 'can', 'this', 'who', 'their', \"you'll\", 'won', 'weren', 'was', 'below', 'i', 'a', 'any', 'itself', 'after', 'against', 'same', 'here', 'myself', 'into', 'she', \"needn't\", 'in', 'yourselves', 'didn', 'so', 'during', 'needn', 'just', 'theirs', 'for', \"aren't\", 'out', \"she's\", 'haven', \"wasn't\", 'through', 'up', 'few', \"didn't\", 'both', 'my', \"you're\", 'with', 'there', 'be', 'not', 'our', 'm', 'by', 'of', 'but', 'on', 'off', 'only', 'yours', 'and', 've', 'her', 'been', 'we', \"wouldn't\", 'don', 'which', 'those', 'nor', \"should've\", 'between', \"isn't\", 'each', \"mightn't\", 'about', 'more', 'wasn', 'aren', 'am', 'what', 'ours'}\n",
      "179\n"
     ]
    }
   ],
   "source": [
    "stops = set(stopwords.words('english'))\n",
    "print(stops)\n",
    "print()"
   ]
  },
  {
   "cell_type": "code",
   "execution_count": 4,
   "id": "c0ccbd35",
   "metadata": {},
   "outputs": [],
   "source": [
    "from sklearn.model_selection import train_test_split  #For building and training the model"
   ]
  },
  {
   "cell_type": "code",
   "execution_count": 5,
   "id": "b7b982d7",
   "metadata": {},
   "outputs": [],
   "source": [
    "import matplotlib.pyplot as plt    #For data visualization\n",
    "import matplotlib.patches as mpatches\n",
    "%matplotlib inline\n",
    "\n",
    "pd.options.plotting.backend = \"plotly\""
   ]
  },
  {
   "cell_type": "code",
   "execution_count": 11,
   "id": "d5d10a7f",
   "metadata": {
    "scrolled": true
   },
   "outputs": [
    {
     "data": {
      "text/html": [
       "<div>\n",
       "<style scoped>\n",
       "    .dataframe tbody tr th:only-of-type {\n",
       "        vertical-align: middle;\n",
       "    }\n",
       "\n",
       "    .dataframe tbody tr th {\n",
       "        vertical-align: top;\n",
       "    }\n",
       "\n",
       "    .dataframe thead th {\n",
       "        text-align: right;\n",
       "    }\n",
       "</style>\n",
       "<table border=\"1\" class=\"dataframe\">\n",
       "  <thead>\n",
       "    <tr style=\"text-align: right;\">\n",
       "      <th></th>\n",
       "      <th>tweet_category</th>\n",
       "      <th>tweet_text</th>\n",
       "    </tr>\n",
       "  </thead>\n",
       "  <tbody>\n",
       "    <tr>\n",
       "      <th>0</th>\n",
       "      <td>Negative</td>\n",
       "      <td>sleep deprived ugh makes for a long day</td>\n",
       "    </tr>\n",
       "    <tr>\n",
       "      <th>1</th>\n",
       "      <td>Negative</td>\n",
       "      <td>It's only been a month but I can't wait for Mi...</td>\n",
       "    </tr>\n",
       "    <tr>\n",
       "      <th>2</th>\n",
       "      <td>Negative</td>\n",
       "      <td>seems my tweedeck  is not working well</td>\n",
       "    </tr>\n",
       "    <tr>\n",
       "      <th>3</th>\n",
       "      <td>Negative</td>\n",
       "      <td>Trying to decide between moving to New Zealand...</td>\n",
       "    </tr>\n",
       "    <tr>\n",
       "      <th>4</th>\n",
       "      <td>Negative</td>\n",
       "      <td>@suckit_nerds yeah, I just live with my mom an...</td>\n",
       "    </tr>\n",
       "  </tbody>\n",
       "</table>\n",
       "</div>"
      ],
      "text/plain": [
       "  tweet_category                                         tweet_text\n",
       "0       Negative           sleep deprived ugh makes for a long day \n",
       "1       Negative  It's only been a month but I can't wait for Mi...\n",
       "2       Negative           seems my tweedeck  is not working well  \n",
       "3       Negative  Trying to decide between moving to New Zealand...\n",
       "4       Negative  @suckit_nerds yeah, I just live with my mom an..."
      ]
     },
     "execution_count": 11,
     "metadata": {},
     "output_type": "execute_result"
    }
   ],
   "source": [
    "df = pd.read_csv('Datasets/FinalTweets.csv')\n",
    "df.head()"
   ]
  },
  {
   "cell_type": "code",
   "execution_count": 12,
   "id": "4821cd7c",
   "metadata": {
    "scrolled": false
   },
   "outputs": [
    {
     "data": {
      "application/vnd.plotly.v1+json": {
       "config": {
        "plotlyServerURL": "https://plot.ly"
       },
       "data": [
        {
         "alignmentgroup": "True",
         "hovertemplate": "variable=tweet_text<br>tweet_category=%{x}<br>value=%{y}<extra></extra>",
         "legendgroup": "tweet_text",
         "marker": {
          "color": "#636efa",
          "pattern": {
           "shape": ""
          }
         },
         "name": "tweet_text",
         "offsetgroup": "tweet_text",
         "orientation": "v",
         "showlegend": true,
         "textposition": "auto",
         "type": "bar",
         "x": [
          "Negative",
          "Neutral",
          "Positive"
         ],
         "xaxis": "x",
         "y": [
          17555,
          10015,
          12567
         ],
         "yaxis": "y"
        }
       ],
       "layout": {
        "barmode": "relative",
        "legend": {
         "title": {
          "text": "variable"
         },
         "tracegroupgap": 0
        },
        "margin": {
         "t": 60
        },
        "template": {
         "data": {
          "bar": [
           {
            "error_x": {
             "color": "#2a3f5f"
            },
            "error_y": {
             "color": "#2a3f5f"
            },
            "marker": {
             "line": {
              "color": "#E5ECF6",
              "width": 0.5
             },
             "pattern": {
              "fillmode": "overlay",
              "size": 10,
              "solidity": 0.2
             }
            },
            "type": "bar"
           }
          ],
          "barpolar": [
           {
            "marker": {
             "line": {
              "color": "#E5ECF6",
              "width": 0.5
             },
             "pattern": {
              "fillmode": "overlay",
              "size": 10,
              "solidity": 0.2
             }
            },
            "type": "barpolar"
           }
          ],
          "carpet": [
           {
            "aaxis": {
             "endlinecolor": "#2a3f5f",
             "gridcolor": "white",
             "linecolor": "white",
             "minorgridcolor": "white",
             "startlinecolor": "#2a3f5f"
            },
            "baxis": {
             "endlinecolor": "#2a3f5f",
             "gridcolor": "white",
             "linecolor": "white",
             "minorgridcolor": "white",
             "startlinecolor": "#2a3f5f"
            },
            "type": "carpet"
           }
          ],
          "choropleth": [
           {
            "colorbar": {
             "outlinewidth": 0,
             "ticks": ""
            },
            "type": "choropleth"
           }
          ],
          "contour": [
           {
            "colorbar": {
             "outlinewidth": 0,
             "ticks": ""
            },
            "colorscale": [
             [
              0,
              "#0d0887"
             ],
             [
              0.1111111111111111,
              "#46039f"
             ],
             [
              0.2222222222222222,
              "#7201a8"
             ],
             [
              0.3333333333333333,
              "#9c179e"
             ],
             [
              0.4444444444444444,
              "#bd3786"
             ],
             [
              0.5555555555555556,
              "#d8576b"
             ],
             [
              0.6666666666666666,
              "#ed7953"
             ],
             [
              0.7777777777777778,
              "#fb9f3a"
             ],
             [
              0.8888888888888888,
              "#fdca26"
             ],
             [
              1,
              "#f0f921"
             ]
            ],
            "type": "contour"
           }
          ],
          "contourcarpet": [
           {
            "colorbar": {
             "outlinewidth": 0,
             "ticks": ""
            },
            "type": "contourcarpet"
           }
          ],
          "heatmap": [
           {
            "colorbar": {
             "outlinewidth": 0,
             "ticks": ""
            },
            "colorscale": [
             [
              0,
              "#0d0887"
             ],
             [
              0.1111111111111111,
              "#46039f"
             ],
             [
              0.2222222222222222,
              "#7201a8"
             ],
             [
              0.3333333333333333,
              "#9c179e"
             ],
             [
              0.4444444444444444,
              "#bd3786"
             ],
             [
              0.5555555555555556,
              "#d8576b"
             ],
             [
              0.6666666666666666,
              "#ed7953"
             ],
             [
              0.7777777777777778,
              "#fb9f3a"
             ],
             [
              0.8888888888888888,
              "#fdca26"
             ],
             [
              1,
              "#f0f921"
             ]
            ],
            "type": "heatmap"
           }
          ],
          "heatmapgl": [
           {
            "colorbar": {
             "outlinewidth": 0,
             "ticks": ""
            },
            "colorscale": [
             [
              0,
              "#0d0887"
             ],
             [
              0.1111111111111111,
              "#46039f"
             ],
             [
              0.2222222222222222,
              "#7201a8"
             ],
             [
              0.3333333333333333,
              "#9c179e"
             ],
             [
              0.4444444444444444,
              "#bd3786"
             ],
             [
              0.5555555555555556,
              "#d8576b"
             ],
             [
              0.6666666666666666,
              "#ed7953"
             ],
             [
              0.7777777777777778,
              "#fb9f3a"
             ],
             [
              0.8888888888888888,
              "#fdca26"
             ],
             [
              1,
              "#f0f921"
             ]
            ],
            "type": "heatmapgl"
           }
          ],
          "histogram": [
           {
            "marker": {
             "pattern": {
              "fillmode": "overlay",
              "size": 10,
              "solidity": 0.2
             }
            },
            "type": "histogram"
           }
          ],
          "histogram2d": [
           {
            "colorbar": {
             "outlinewidth": 0,
             "ticks": ""
            },
            "colorscale": [
             [
              0,
              "#0d0887"
             ],
             [
              0.1111111111111111,
              "#46039f"
             ],
             [
              0.2222222222222222,
              "#7201a8"
             ],
             [
              0.3333333333333333,
              "#9c179e"
             ],
             [
              0.4444444444444444,
              "#bd3786"
             ],
             [
              0.5555555555555556,
              "#d8576b"
             ],
             [
              0.6666666666666666,
              "#ed7953"
             ],
             [
              0.7777777777777778,
              "#fb9f3a"
             ],
             [
              0.8888888888888888,
              "#fdca26"
             ],
             [
              1,
              "#f0f921"
             ]
            ],
            "type": "histogram2d"
           }
          ],
          "histogram2dcontour": [
           {
            "colorbar": {
             "outlinewidth": 0,
             "ticks": ""
            },
            "colorscale": [
             [
              0,
              "#0d0887"
             ],
             [
              0.1111111111111111,
              "#46039f"
             ],
             [
              0.2222222222222222,
              "#7201a8"
             ],
             [
              0.3333333333333333,
              "#9c179e"
             ],
             [
              0.4444444444444444,
              "#bd3786"
             ],
             [
              0.5555555555555556,
              "#d8576b"
             ],
             [
              0.6666666666666666,
              "#ed7953"
             ],
             [
              0.7777777777777778,
              "#fb9f3a"
             ],
             [
              0.8888888888888888,
              "#fdca26"
             ],
             [
              1,
              "#f0f921"
             ]
            ],
            "type": "histogram2dcontour"
           }
          ],
          "mesh3d": [
           {
            "colorbar": {
             "outlinewidth": 0,
             "ticks": ""
            },
            "type": "mesh3d"
           }
          ],
          "parcoords": [
           {
            "line": {
             "colorbar": {
              "outlinewidth": 0,
              "ticks": ""
             }
            },
            "type": "parcoords"
           }
          ],
          "pie": [
           {
            "automargin": true,
            "type": "pie"
           }
          ],
          "scatter": [
           {
            "fillpattern": {
             "fillmode": "overlay",
             "size": 10,
             "solidity": 0.2
            },
            "type": "scatter"
           }
          ],
          "scatter3d": [
           {
            "line": {
             "colorbar": {
              "outlinewidth": 0,
              "ticks": ""
             }
            },
            "marker": {
             "colorbar": {
              "outlinewidth": 0,
              "ticks": ""
             }
            },
            "type": "scatter3d"
           }
          ],
          "scattercarpet": [
           {
            "marker": {
             "colorbar": {
              "outlinewidth": 0,
              "ticks": ""
             }
            },
            "type": "scattercarpet"
           }
          ],
          "scattergeo": [
           {
            "marker": {
             "colorbar": {
              "outlinewidth": 0,
              "ticks": ""
             }
            },
            "type": "scattergeo"
           }
          ],
          "scattergl": [
           {
            "marker": {
             "colorbar": {
              "outlinewidth": 0,
              "ticks": ""
             }
            },
            "type": "scattergl"
           }
          ],
          "scattermapbox": [
           {
            "marker": {
             "colorbar": {
              "outlinewidth": 0,
              "ticks": ""
             }
            },
            "type": "scattermapbox"
           }
          ],
          "scatterpolar": [
           {
            "marker": {
             "colorbar": {
              "outlinewidth": 0,
              "ticks": ""
             }
            },
            "type": "scatterpolar"
           }
          ],
          "scatterpolargl": [
           {
            "marker": {
             "colorbar": {
              "outlinewidth": 0,
              "ticks": ""
             }
            },
            "type": "scatterpolargl"
           }
          ],
          "scatterternary": [
           {
            "marker": {
             "colorbar": {
              "outlinewidth": 0,
              "ticks": ""
             }
            },
            "type": "scatterternary"
           }
          ],
          "surface": [
           {
            "colorbar": {
             "outlinewidth": 0,
             "ticks": ""
            },
            "colorscale": [
             [
              0,
              "#0d0887"
             ],
             [
              0.1111111111111111,
              "#46039f"
             ],
             [
              0.2222222222222222,
              "#7201a8"
             ],
             [
              0.3333333333333333,
              "#9c179e"
             ],
             [
              0.4444444444444444,
              "#bd3786"
             ],
             [
              0.5555555555555556,
              "#d8576b"
             ],
             [
              0.6666666666666666,
              "#ed7953"
             ],
             [
              0.7777777777777778,
              "#fb9f3a"
             ],
             [
              0.8888888888888888,
              "#fdca26"
             ],
             [
              1,
              "#f0f921"
             ]
            ],
            "type": "surface"
           }
          ],
          "table": [
           {
            "cells": {
             "fill": {
              "color": "#EBF0F8"
             },
             "line": {
              "color": "white"
             }
            },
            "header": {
             "fill": {
              "color": "#C8D4E3"
             },
             "line": {
              "color": "white"
             }
            },
            "type": "table"
           }
          ]
         },
         "layout": {
          "annotationdefaults": {
           "arrowcolor": "#2a3f5f",
           "arrowhead": 0,
           "arrowwidth": 1
          },
          "autotypenumbers": "strict",
          "coloraxis": {
           "colorbar": {
            "outlinewidth": 0,
            "ticks": ""
           }
          },
          "colorscale": {
           "diverging": [
            [
             0,
             "#8e0152"
            ],
            [
             0.1,
             "#c51b7d"
            ],
            [
             0.2,
             "#de77ae"
            ],
            [
             0.3,
             "#f1b6da"
            ],
            [
             0.4,
             "#fde0ef"
            ],
            [
             0.5,
             "#f7f7f7"
            ],
            [
             0.6,
             "#e6f5d0"
            ],
            [
             0.7,
             "#b8e186"
            ],
            [
             0.8,
             "#7fbc41"
            ],
            [
             0.9,
             "#4d9221"
            ],
            [
             1,
             "#276419"
            ]
           ],
           "sequential": [
            [
             0,
             "#0d0887"
            ],
            [
             0.1111111111111111,
             "#46039f"
            ],
            [
             0.2222222222222222,
             "#7201a8"
            ],
            [
             0.3333333333333333,
             "#9c179e"
            ],
            [
             0.4444444444444444,
             "#bd3786"
            ],
            [
             0.5555555555555556,
             "#d8576b"
            ],
            [
             0.6666666666666666,
             "#ed7953"
            ],
            [
             0.7777777777777778,
             "#fb9f3a"
            ],
            [
             0.8888888888888888,
             "#fdca26"
            ],
            [
             1,
             "#f0f921"
            ]
           ],
           "sequentialminus": [
            [
             0,
             "#0d0887"
            ],
            [
             0.1111111111111111,
             "#46039f"
            ],
            [
             0.2222222222222222,
             "#7201a8"
            ],
            [
             0.3333333333333333,
             "#9c179e"
            ],
            [
             0.4444444444444444,
             "#bd3786"
            ],
            [
             0.5555555555555556,
             "#d8576b"
            ],
            [
             0.6666666666666666,
             "#ed7953"
            ],
            [
             0.7777777777777778,
             "#fb9f3a"
            ],
            [
             0.8888888888888888,
             "#fdca26"
            ],
            [
             1,
             "#f0f921"
            ]
           ]
          },
          "colorway": [
           "#636efa",
           "#EF553B",
           "#00cc96",
           "#ab63fa",
           "#FFA15A",
           "#19d3f3",
           "#FF6692",
           "#B6E880",
           "#FF97FF",
           "#FECB52"
          ],
          "font": {
           "color": "#2a3f5f"
          },
          "geo": {
           "bgcolor": "white",
           "lakecolor": "white",
           "landcolor": "#E5ECF6",
           "showlakes": true,
           "showland": true,
           "subunitcolor": "white"
          },
          "hoverlabel": {
           "align": "left"
          },
          "hovermode": "closest",
          "mapbox": {
           "style": "light"
          },
          "paper_bgcolor": "white",
          "plot_bgcolor": "#E5ECF6",
          "polar": {
           "angularaxis": {
            "gridcolor": "white",
            "linecolor": "white",
            "ticks": ""
           },
           "bgcolor": "#E5ECF6",
           "radialaxis": {
            "gridcolor": "white",
            "linecolor": "white",
            "ticks": ""
           }
          },
          "scene": {
           "xaxis": {
            "backgroundcolor": "#E5ECF6",
            "gridcolor": "white",
            "gridwidth": 2,
            "linecolor": "white",
            "showbackground": true,
            "ticks": "",
            "zerolinecolor": "white"
           },
           "yaxis": {
            "backgroundcolor": "#E5ECF6",
            "gridcolor": "white",
            "gridwidth": 2,
            "linecolor": "white",
            "showbackground": true,
            "ticks": "",
            "zerolinecolor": "white"
           },
           "zaxis": {
            "backgroundcolor": "#E5ECF6",
            "gridcolor": "white",
            "gridwidth": 2,
            "linecolor": "white",
            "showbackground": true,
            "ticks": "",
            "zerolinecolor": "white"
           }
          },
          "shapedefaults": {
           "line": {
            "color": "#2a3f5f"
           }
          },
          "ternary": {
           "aaxis": {
            "gridcolor": "white",
            "linecolor": "white",
            "ticks": ""
           },
           "baxis": {
            "gridcolor": "white",
            "linecolor": "white",
            "ticks": ""
           },
           "bgcolor": "#E5ECF6",
           "caxis": {
            "gridcolor": "white",
            "linecolor": "white",
            "ticks": ""
           }
          },
          "title": {
           "x": 0.05
          },
          "xaxis": {
           "automargin": true,
           "gridcolor": "white",
           "linecolor": "white",
           "ticks": "",
           "title": {
            "standoff": 15
           },
           "zerolinecolor": "white",
           "zerolinewidth": 2
          },
          "yaxis": {
           "automargin": true,
           "gridcolor": "white",
           "linecolor": "white",
           "ticks": "",
           "title": {
            "standoff": 15
           },
           "zerolinecolor": "white",
           "zerolinewidth": 2
          }
         }
        },
        "xaxis": {
         "anchor": "y",
         "domain": [
          0,
          1
         ],
         "title": {
          "text": "tweet_category"
         }
        },
        "yaxis": {
         "anchor": "x",
         "domain": [
          0,
          1
         ],
         "title": {
          "text": "value"
         }
        }
       }
      },
      "text/html": [
       "<div>                            <div id=\"2cff8231-045a-47a9-b624-c66e49943340\" class=\"plotly-graph-div\" style=\"height:525px; width:100%;\"></div>            <script type=\"text/javascript\">                require([\"plotly\"], function(Plotly) {                    window.PLOTLYENV=window.PLOTLYENV || {};                                    if (document.getElementById(\"2cff8231-045a-47a9-b624-c66e49943340\")) {                    Plotly.newPlot(                        \"2cff8231-045a-47a9-b624-c66e49943340\",                        [{\"alignmentgroup\":\"True\",\"hovertemplate\":\"variable=tweet_text<br>tweet_category=%{x}<br>value=%{y}<extra></extra>\",\"legendgroup\":\"tweet_text\",\"marker\":{\"color\":\"#636efa\",\"pattern\":{\"shape\":\"\"}},\"name\":\"tweet_text\",\"offsetgroup\":\"tweet_text\",\"orientation\":\"v\",\"showlegend\":true,\"textposition\":\"auto\",\"x\":[\"Negative\",\"Neutral\",\"Positive\"],\"xaxis\":\"x\",\"y\":[17555,10015,12567],\"yaxis\":\"y\",\"type\":\"bar\"}],                        {\"template\":{\"data\":{\"histogram2dcontour\":[{\"type\":\"histogram2dcontour\",\"colorbar\":{\"outlinewidth\":0,\"ticks\":\"\"},\"colorscale\":[[0.0,\"#0d0887\"],[0.1111111111111111,\"#46039f\"],[0.2222222222222222,\"#7201a8\"],[0.3333333333333333,\"#9c179e\"],[0.4444444444444444,\"#bd3786\"],[0.5555555555555556,\"#d8576b\"],[0.6666666666666666,\"#ed7953\"],[0.7777777777777778,\"#fb9f3a\"],[0.8888888888888888,\"#fdca26\"],[1.0,\"#f0f921\"]]}],\"choropleth\":[{\"type\":\"choropleth\",\"colorbar\":{\"outlinewidth\":0,\"ticks\":\"\"}}],\"histogram2d\":[{\"type\":\"histogram2d\",\"colorbar\":{\"outlinewidth\":0,\"ticks\":\"\"},\"colorscale\":[[0.0,\"#0d0887\"],[0.1111111111111111,\"#46039f\"],[0.2222222222222222,\"#7201a8\"],[0.3333333333333333,\"#9c179e\"],[0.4444444444444444,\"#bd3786\"],[0.5555555555555556,\"#d8576b\"],[0.6666666666666666,\"#ed7953\"],[0.7777777777777778,\"#fb9f3a\"],[0.8888888888888888,\"#fdca26\"],[1.0,\"#f0f921\"]]}],\"heatmap\":[{\"type\":\"heatmap\",\"colorbar\":{\"outlinewidth\":0,\"ticks\":\"\"},\"colorscale\":[[0.0,\"#0d0887\"],[0.1111111111111111,\"#46039f\"],[0.2222222222222222,\"#7201a8\"],[0.3333333333333333,\"#9c179e\"],[0.4444444444444444,\"#bd3786\"],[0.5555555555555556,\"#d8576b\"],[0.6666666666666666,\"#ed7953\"],[0.7777777777777778,\"#fb9f3a\"],[0.8888888888888888,\"#fdca26\"],[1.0,\"#f0f921\"]]}],\"heatmapgl\":[{\"type\":\"heatmapgl\",\"colorbar\":{\"outlinewidth\":0,\"ticks\":\"\"},\"colorscale\":[[0.0,\"#0d0887\"],[0.1111111111111111,\"#46039f\"],[0.2222222222222222,\"#7201a8\"],[0.3333333333333333,\"#9c179e\"],[0.4444444444444444,\"#bd3786\"],[0.5555555555555556,\"#d8576b\"],[0.6666666666666666,\"#ed7953\"],[0.7777777777777778,\"#fb9f3a\"],[0.8888888888888888,\"#fdca26\"],[1.0,\"#f0f921\"]]}],\"contourcarpet\":[{\"type\":\"contourcarpet\",\"colorbar\":{\"outlinewidth\":0,\"ticks\":\"\"}}],\"contour\":[{\"type\":\"contour\",\"colorbar\":{\"outlinewidth\":0,\"ticks\":\"\"},\"colorscale\":[[0.0,\"#0d0887\"],[0.1111111111111111,\"#46039f\"],[0.2222222222222222,\"#7201a8\"],[0.3333333333333333,\"#9c179e\"],[0.4444444444444444,\"#bd3786\"],[0.5555555555555556,\"#d8576b\"],[0.6666666666666666,\"#ed7953\"],[0.7777777777777778,\"#fb9f3a\"],[0.8888888888888888,\"#fdca26\"],[1.0,\"#f0f921\"]]}],\"surface\":[{\"type\":\"surface\",\"colorbar\":{\"outlinewidth\":0,\"ticks\":\"\"},\"colorscale\":[[0.0,\"#0d0887\"],[0.1111111111111111,\"#46039f\"],[0.2222222222222222,\"#7201a8\"],[0.3333333333333333,\"#9c179e\"],[0.4444444444444444,\"#bd3786\"],[0.5555555555555556,\"#d8576b\"],[0.6666666666666666,\"#ed7953\"],[0.7777777777777778,\"#fb9f3a\"],[0.8888888888888888,\"#fdca26\"],[1.0,\"#f0f921\"]]}],\"mesh3d\":[{\"type\":\"mesh3d\",\"colorbar\":{\"outlinewidth\":0,\"ticks\":\"\"}}],\"scatter\":[{\"fillpattern\":{\"fillmode\":\"overlay\",\"size\":10,\"solidity\":0.2},\"type\":\"scatter\"}],\"parcoords\":[{\"type\":\"parcoords\",\"line\":{\"colorbar\":{\"outlinewidth\":0,\"ticks\":\"\"}}}],\"scatterpolargl\":[{\"type\":\"scatterpolargl\",\"marker\":{\"colorbar\":{\"outlinewidth\":0,\"ticks\":\"\"}}}],\"bar\":[{\"error_x\":{\"color\":\"#2a3f5f\"},\"error_y\":{\"color\":\"#2a3f5f\"},\"marker\":{\"line\":{\"color\":\"#E5ECF6\",\"width\":0.5},\"pattern\":{\"fillmode\":\"overlay\",\"size\":10,\"solidity\":0.2}},\"type\":\"bar\"}],\"scattergeo\":[{\"type\":\"scattergeo\",\"marker\":{\"colorbar\":{\"outlinewidth\":0,\"ticks\":\"\"}}}],\"scatterpolar\":[{\"type\":\"scatterpolar\",\"marker\":{\"colorbar\":{\"outlinewidth\":0,\"ticks\":\"\"}}}],\"histogram\":[{\"marker\":{\"pattern\":{\"fillmode\":\"overlay\",\"size\":10,\"solidity\":0.2}},\"type\":\"histogram\"}],\"scattergl\":[{\"type\":\"scattergl\",\"marker\":{\"colorbar\":{\"outlinewidth\":0,\"ticks\":\"\"}}}],\"scatter3d\":[{\"type\":\"scatter3d\",\"line\":{\"colorbar\":{\"outlinewidth\":0,\"ticks\":\"\"}},\"marker\":{\"colorbar\":{\"outlinewidth\":0,\"ticks\":\"\"}}}],\"scattermapbox\":[{\"type\":\"scattermapbox\",\"marker\":{\"colorbar\":{\"outlinewidth\":0,\"ticks\":\"\"}}}],\"scatterternary\":[{\"type\":\"scatterternary\",\"marker\":{\"colorbar\":{\"outlinewidth\":0,\"ticks\":\"\"}}}],\"scattercarpet\":[{\"type\":\"scattercarpet\",\"marker\":{\"colorbar\":{\"outlinewidth\":0,\"ticks\":\"\"}}}],\"carpet\":[{\"aaxis\":{\"endlinecolor\":\"#2a3f5f\",\"gridcolor\":\"white\",\"linecolor\":\"white\",\"minorgridcolor\":\"white\",\"startlinecolor\":\"#2a3f5f\"},\"baxis\":{\"endlinecolor\":\"#2a3f5f\",\"gridcolor\":\"white\",\"linecolor\":\"white\",\"minorgridcolor\":\"white\",\"startlinecolor\":\"#2a3f5f\"},\"type\":\"carpet\"}],\"table\":[{\"cells\":{\"fill\":{\"color\":\"#EBF0F8\"},\"line\":{\"color\":\"white\"}},\"header\":{\"fill\":{\"color\":\"#C8D4E3\"},\"line\":{\"color\":\"white\"}},\"type\":\"table\"}],\"barpolar\":[{\"marker\":{\"line\":{\"color\":\"#E5ECF6\",\"width\":0.5},\"pattern\":{\"fillmode\":\"overlay\",\"size\":10,\"solidity\":0.2}},\"type\":\"barpolar\"}],\"pie\":[{\"automargin\":true,\"type\":\"pie\"}]},\"layout\":{\"autotypenumbers\":\"strict\",\"colorway\":[\"#636efa\",\"#EF553B\",\"#00cc96\",\"#ab63fa\",\"#FFA15A\",\"#19d3f3\",\"#FF6692\",\"#B6E880\",\"#FF97FF\",\"#FECB52\"],\"font\":{\"color\":\"#2a3f5f\"},\"hovermode\":\"closest\",\"hoverlabel\":{\"align\":\"left\"},\"paper_bgcolor\":\"white\",\"plot_bgcolor\":\"#E5ECF6\",\"polar\":{\"bgcolor\":\"#E5ECF6\",\"angularaxis\":{\"gridcolor\":\"white\",\"linecolor\":\"white\",\"ticks\":\"\"},\"radialaxis\":{\"gridcolor\":\"white\",\"linecolor\":\"white\",\"ticks\":\"\"}},\"ternary\":{\"bgcolor\":\"#E5ECF6\",\"aaxis\":{\"gridcolor\":\"white\",\"linecolor\":\"white\",\"ticks\":\"\"},\"baxis\":{\"gridcolor\":\"white\",\"linecolor\":\"white\",\"ticks\":\"\"},\"caxis\":{\"gridcolor\":\"white\",\"linecolor\":\"white\",\"ticks\":\"\"}},\"coloraxis\":{\"colorbar\":{\"outlinewidth\":0,\"ticks\":\"\"}},\"colorscale\":{\"sequential\":[[0.0,\"#0d0887\"],[0.1111111111111111,\"#46039f\"],[0.2222222222222222,\"#7201a8\"],[0.3333333333333333,\"#9c179e\"],[0.4444444444444444,\"#bd3786\"],[0.5555555555555556,\"#d8576b\"],[0.6666666666666666,\"#ed7953\"],[0.7777777777777778,\"#fb9f3a\"],[0.8888888888888888,\"#fdca26\"],[1.0,\"#f0f921\"]],\"sequentialminus\":[[0.0,\"#0d0887\"],[0.1111111111111111,\"#46039f\"],[0.2222222222222222,\"#7201a8\"],[0.3333333333333333,\"#9c179e\"],[0.4444444444444444,\"#bd3786\"],[0.5555555555555556,\"#d8576b\"],[0.6666666666666666,\"#ed7953\"],[0.7777777777777778,\"#fb9f3a\"],[0.8888888888888888,\"#fdca26\"],[1.0,\"#f0f921\"]],\"diverging\":[[0,\"#8e0152\"],[0.1,\"#c51b7d\"],[0.2,\"#de77ae\"],[0.3,\"#f1b6da\"],[0.4,\"#fde0ef\"],[0.5,\"#f7f7f7\"],[0.6,\"#e6f5d0\"],[0.7,\"#b8e186\"],[0.8,\"#7fbc41\"],[0.9,\"#4d9221\"],[1,\"#276419\"]]},\"xaxis\":{\"gridcolor\":\"white\",\"linecolor\":\"white\",\"ticks\":\"\",\"title\":{\"standoff\":15},\"zerolinecolor\":\"white\",\"automargin\":true,\"zerolinewidth\":2},\"yaxis\":{\"gridcolor\":\"white\",\"linecolor\":\"white\",\"ticks\":\"\",\"title\":{\"standoff\":15},\"zerolinecolor\":\"white\",\"automargin\":true,\"zerolinewidth\":2},\"scene\":{\"xaxis\":{\"backgroundcolor\":\"#E5ECF6\",\"gridcolor\":\"white\",\"linecolor\":\"white\",\"showbackground\":true,\"ticks\":\"\",\"zerolinecolor\":\"white\",\"gridwidth\":2},\"yaxis\":{\"backgroundcolor\":\"#E5ECF6\",\"gridcolor\":\"white\",\"linecolor\":\"white\",\"showbackground\":true,\"ticks\":\"\",\"zerolinecolor\":\"white\",\"gridwidth\":2},\"zaxis\":{\"backgroundcolor\":\"#E5ECF6\",\"gridcolor\":\"white\",\"linecolor\":\"white\",\"showbackground\":true,\"ticks\":\"\",\"zerolinecolor\":\"white\",\"gridwidth\":2}},\"shapedefaults\":{\"line\":{\"color\":\"#2a3f5f\"}},\"annotationdefaults\":{\"arrowcolor\":\"#2a3f5f\",\"arrowhead\":0,\"arrowwidth\":1},\"geo\":{\"bgcolor\":\"white\",\"landcolor\":\"#E5ECF6\",\"subunitcolor\":\"white\",\"showland\":true,\"showlakes\":true,\"lakecolor\":\"white\"},\"title\":{\"x\":0.05},\"mapbox\":{\"style\":\"light\"}}},\"xaxis\":{\"anchor\":\"y\",\"domain\":[0.0,1.0],\"title\":{\"text\":\"tweet_category\"}},\"yaxis\":{\"anchor\":\"x\",\"domain\":[0.0,1.0],\"title\":{\"text\":\"value\"}},\"legend\":{\"title\":{\"text\":\"variable\"},\"tracegroupgap\":0},\"margin\":{\"t\":60},\"barmode\":\"relative\"},                        {\"responsive\": true}                    ).then(function(){\n",
       "                            \n",
       "var gd = document.getElementById('2cff8231-045a-47a9-b624-c66e49943340');\n",
       "var x = new MutationObserver(function (mutations, observer) {{\n",
       "        var display = window.getComputedStyle(gd).display;\n",
       "        if (!display || display === 'none') {{\n",
       "            console.log([gd, 'removed!']);\n",
       "            Plotly.purge(gd);\n",
       "            observer.disconnect();\n",
       "        }}\n",
       "}});\n",
       "\n",
       "// Listen for the removal of the full notebook cells\n",
       "var notebookContainer = gd.closest('#notebook-container');\n",
       "if (notebookContainer) {{\n",
       "    x.observe(notebookContainer, {childList: true});\n",
       "}}\n",
       "\n",
       "// Listen for the clearing of the current output cell\n",
       "var outputEl = gd.closest('.output');\n",
       "if (outputEl) {{\n",
       "    x.observe(outputEl, {childList: true});\n",
       "}}\n",
       "\n",
       "                        })                };                });            </script>        </div>"
      ]
     },
     "metadata": {},
     "output_type": "display_data"
    }
   ],
   "source": [
    "df.groupby('tweet_category').count().plot(kind='bar')"
   ]
  },
  {
   "cell_type": "code",
   "execution_count": 13,
   "id": "bc3c5894",
   "metadata": {},
   "outputs": [
    {
     "data": {
      "text/plain": [
       "(40138, 2)"
      ]
     },
     "execution_count": 13,
     "metadata": {},
     "output_type": "execute_result"
    }
   ],
   "source": [
    "df = df.astype({'tweet_text': 'string'})   #converting tweet_text to string datatype\n",
    "df.isnull().sum()     #Check for missing data\n",
    "df.dropna()           #Drop missing rows\n",
    "df.shape              #Data dimensions"
   ]
  },
  {
   "cell_type": "code",
   "execution_count": 14,
   "id": "377de2bc",
   "metadata": {},
   "outputs": [],
   "source": [
    "# Pre-processing the tweet data\n",
    "\n",
    "def tweet_to_words(tweet):\n",
    "    #Convert tweet text into a sequence of words\n",
    "    \n",
    "    #convert tweet to text\n",
    "    text = str(tweet)\n",
    "    # convert to lowercase\n",
    "    text = text.lower()\n",
    "    # remove usernames if any\n",
    "    text = re.sub(r\"@[^\\s]+\",\" \",text)\n",
    "    # remove links if any \n",
    "    text = re.sub(r\"http[^\\s]+\",\" \",text)\n",
    "    # remove non letters\n",
    "    text = re.sub(r\"[^a-zA-Z0-9]\", \" \", text)\n",
    "    # tokenize/''\n",
    "    words = text.split()\n",
    "    # remove stopwords\n",
    "    words = [w for w in words if w not in stopwords.words(\"english\")]\n",
    "    # apply stemming (returning shorter words with the same meaning), reduces words to their stems\n",
    "    words = [PorterStemmer().stem(w) for w in words]\n",
    "    # return list\n",
    "    return words"
   ]
  },
  {
   "cell_type": "code",
   "execution_count": 47,
   "id": "6f3a10a4",
   "metadata": {},
   "outputs": [
    {
     "name": "stdout",
     "output_type": "stream",
     "text": [
      "\n",
      "Original tweet -> @downsy I know it does! But I am getting on with it, it'll be worth it! \n",
      "\n",
      "Processed tweet -> ['know', 'get', 'worth']\n"
     ]
    }
   ],
   "source": [
    "print(\"\\nOriginal tweet ->\", df['tweet_text'][6])         \n",
    "print(\"\\nProcessed tweet ->\", tweet_to_words(df['tweet_text'][6]))     #Applying the text pre-processing function"
   ]
  },
  {
   "cell_type": "code",
   "execution_count": 16,
   "id": "01c2eded",
   "metadata": {},
   "outputs": [],
   "source": [
    "# Apply data processing to each tweet in the dataset\n",
    "X = list(map(tweet_to_words, df['tweet_text']))"
   ]
  },
  {
   "cell_type": "code",
   "execution_count": 17,
   "id": "f6d937f1",
   "metadata": {},
   "outputs": [],
   "source": [
    "from sklearn.preprocessing import LabelEncoder\n",
    "\n",
    "le = LabelEncoder()\n",
    "Y = le.fit_transform(df['tweet_category'])"
   ]
  },
  {
   "cell_type": "code",
   "execution_count": 18,
   "id": "370be215",
   "metadata": {},
   "outputs": [],
   "source": [
    "# Train and Test split\n",
    "\n",
    "y = pd.get_dummies(df['tweet_category'])   # converts categorical data into dummy or indicator variables\n",
    "\n",
    "# X-> features Y-> labels\n",
    "# Dividing the dataset into sets\n",
    "X_train, X_test, y_train, y_test = train_test_split(X, y, test_size=0.2, random_state=1)\n",
    "X_train, X_val, y_train, y_val = train_test_split(X_train, y_train, test_size=0.25, random_state=1)"
   ]
  },
  {
   "cell_type": "code",
   "execution_count": 19,
   "id": "35f884dd",
   "metadata": {},
   "outputs": [
    {
     "name": "stdout",
     "output_type": "stream",
     "text": [
      "(24082, 5000)\n"
     ]
    }
   ],
   "source": [
    "# Bag of Words feature extraction\n",
    "from sklearn.feature_extraction.text import CountVectorizer\n",
    "\n",
    "\n",
    "vocabulary_size = 5000\n",
    "\n",
    "# Tweets have already been preprocessed hence dummy function will be passed in to preprocessor & tokenizer step\n",
    "count_vector = CountVectorizer(max_features=vocabulary_size, preprocessor=lambda x: x, tokenizer=lambda x: x) \n",
    "\n",
    "\n",
    "# Fit the training data\n",
    "X_train = count_vector.fit_transform(X_train).toarray()\n",
    "#print(type(X_train))\n",
    "print(X_train.shape)\n",
    "\n",
    "# Transform testing data\n",
    "X_test = count_vector.transform(X_test).toarray()"
   ]
  },
  {
   "cell_type": "code",
   "execution_count": 20,
   "id": "29a039f3",
   "metadata": {},
   "outputs": [
    {
     "name": "stdout",
     "output_type": "stream",
     "text": [
      "['0' '00' '000' '02' '03' '05' '08' '1' '10' '100' '1000' '101' '10pm'\n",
      " '11' '111' '1145' '11th' '12' '120' '1200' '12000' '125' '13' '130' '136'\n",
      " '14' '140' '14000' '15' '150' '1500' '157200000' '15l' '15lakh' '15th'\n",
      " '16' '17' '18' '180' '1800' '19' '1947' '1971' '1984' '1998' '19th' '1am'\n",
      " '1hr' '1k' '1pm' '1st' '2' '20' '200' '2000' '2002' '2004' '2007' '2008'\n",
      " '2009' '2010' '2011' '2012' '2013' '2014' '2015' '2016' '2017' '2018'\n",
      " '2019' '2020' '2024' '20min' '21' '21st' '22' '23' '23rd' '24' '247'\n",
      " '24hr' '25' '250' '26' '2611' '27' '272' '28' '28th' '2day' '2hr' '2nd'\n",
      " '2pm' '2x' '3' '30' '300' '3000' '30am' '30min' '30th' '32' '35' '350'\n",
      " '35a' '36' '370' '39' '3am' '3d' '3hr' '3pm' '3rd' '4' '40' '400' '40pm'\n",
      " '42' '45' '456' '45min' '48' '4am' '4hr' '4th' '5' '50' '500' '5000'\n",
      " '50000' '50k' '51' '55' '59' '5hr' '5th' '5year' '5yr' '6' '60' '600'\n",
      " '6000' '65' '69' '6am' '6pm' '6th' '7' '70' '700' '703' '719' '72000'\n",
      " '7200000' '728' '72k' '737' '75' '750' '7am' '7th' '8' '80' '800' '8020'\n",
      " '8am' '8pm' '8th' '9' '90' '900' '9000' '99' '9am' 'a320' 'aa' 'aadhaar'\n",
      " 'aadhar' 'aadmi' 'aaj' 'aalo' 'aam' 'aap' 'aapk' 'aat' 'aay' 'aayega'\n",
      " 'aayog' 'abandon' 'abc' 'abduct' 'abdullah' 'abe' 'abey' 'abhi'\n",
      " 'abhinandan' 'abhisar' 'abil' 'abki' 'abl']\n"
     ]
    }
   ],
   "source": [
    "# print first 200 words/tokens\n",
    "print(count_vector.get_feature_names_out()[0:200])"
   ]
  },
  {
   "cell_type": "code",
   "execution_count": 21,
   "id": "f1e4c8e2",
   "metadata": {
    "scrolled": true
   },
   "outputs": [
    {
     "name": "stdout",
     "output_type": "stream",
     "text": [
      "Before Tokenization & Padding \n",
      " sleep deprived ugh makes for a long day \n",
      "After Tokenization & Padding \n",
      " [ 585 1172  482    4    8  267  109    0    0    0    0    0    0    0\n",
      "    0    0    0    0    0    0    0    0    0    0    0    0    0    0\n",
      "    0    0    0    0    0    0    0    0    0    0    0    0    0    0\n",
      "    0    0    0    0    0    0    0    0]\n",
      "40138\n"
     ]
    }
   ],
   "source": [
    "from keras.preprocessing.text import Tokenizer\n",
    "from tensorflow.keras.preprocessing.sequence import pad_sequences\n",
    "\n",
    "max_words = 5000\n",
    "max_len=50\n",
    "\n",
    "def tokenize_pad_sequences(text):\n",
    "    '''\n",
    "    This function tokenize the input text into sequences of integers and then\n",
    "    pad each sequence to the same length\n",
    "    '''\n",
    "    # Text tokenization\n",
    "    tokenizer = Tokenizer(num_words=max_words, lower=True, split=' ')\n",
    "    tokenizer.fit_on_texts(text)\n",
    "    # Transforms text to a sequence of integers\n",
    "    X = tokenizer.texts_to_sequences(text)\n",
    "    # Pad sequences to the same length\n",
    "    X = pad_sequences(X, padding='post', maxlen=max_len)\n",
    "    # return sequences\n",
    "    return X, tokenizer\n",
    "\n",
    "print('Before Tokenization & Padding \\n', df['tweet_text'][0])\n",
    "X, tokenizer = tokenize_pad_sequences(df['tweet_text'])\n",
    "print('After Tokenization & Padding \\n', X[0])\n",
    "print(len(X))"
   ]
  },
  {
   "cell_type": "code",
   "execution_count": 22,
   "id": "4bcc39e7",
   "metadata": {},
   "outputs": [],
   "source": [
    "import pickle\n",
    "\n",
    "# saving tokenized data\n",
    "with open('tokenizer.pickle', 'wb') as handle:\n",
    "    pickle.dump(tokenizer, handle, protocol=pickle.HIGHEST_PROTOCOL)\n",
    "\n",
    "# loading tokenized data\n",
    "with open('tokenizer.pickle', 'rb') as handle:\n",
    "    tokenizer = pickle.load(handle)"
   ]
  },
  {
   "cell_type": "code",
   "execution_count": 23,
   "id": "bc3816d7",
   "metadata": {},
   "outputs": [],
   "source": [
    "# Train and Test split\n",
    "\n",
    "y = pd.get_dummies(df['tweet_category'])   # converts categorical data into dummy or indicator variables\n",
    "\n",
    "# X-> features Y-> labels\n",
    "# Dividing the dataset into sets\n",
    "X_train, X_test, y_train, y_test = train_test_split(X, y, test_size=0.2, random_state=1)\n",
    "X_train, X_val, y_train, y_val = train_test_split(X_train, y_train, test_size=0.25, random_state=1)"
   ]
  },
  {
   "cell_type": "code",
   "execution_count": 24,
   "id": "fa5f31ab",
   "metadata": {},
   "outputs": [
    {
     "name": "stdout",
     "output_type": "stream",
     "text": [
      "Train Set -> (24082, 50) (24082, 3)\n",
      "Validation Set -> (8028, 50) (8028, 3)\n",
      "Test Set -> (8028, 50) (8028, 3)\n"
     ]
    }
   ],
   "source": [
    "print('Train Set ->', X_train.shape, y_train.shape)\n",
    "print('Validation Set ->', X_val.shape, y_val.shape)\n",
    "print('Test Set ->', X_test.shape, y_test.shape)"
   ]
  },
  {
   "cell_type": "code",
   "execution_count": 25,
   "id": "a5d018c7",
   "metadata": {},
   "outputs": [],
   "source": [
    "import keras.backend as K\n",
    "\n",
    "def f1_score(precision, recall):\n",
    "    ''' Function to calculate f1 score '''\n",
    "    \n",
    "    f1_val = 2*(precision*recall)/(precision+recall+K.epsilon())\n",
    "    return f1_val"
   ]
  },
  {
   "cell_type": "code",
   "execution_count": 26,
   "id": "f8370a3d",
   "metadata": {},
   "outputs": [],
   "source": [
    "from keras.models import Sequential\n",
    "from keras.layers import Embedding, Conv1D, MaxPooling1D, Bidirectional, LSTM, Dense, Dropout\n",
    "from keras.metrics import Precision, Recall\n",
    "from keras.optimizers import SGD\n",
    "from keras.optimizers import RMSprop\n",
    "from keras import datasets\n",
    "\n",
    "from keras.callbacks import LearningRateScheduler\n",
    "from keras.callbacks import History\n",
    "\n",
    "from keras import losses\n",
    "\n",
    "vocab_size = 5000\n",
    "embedding_size = 32\n",
    "epochs=20\n",
    "learning_rate = 0.1\n",
    "decay_rate = learning_rate / epochs\n",
    "momentum = 0.8\n",
    "\n",
    "sgd = SGD(learning_rate=learning_rate, momentum=momentum, decay=decay_rate, nesterov=False)\n",
    "# Build model\n",
    "model= Sequential()\n",
    "model.add(Embedding(vocab_size, embedding_size, input_length=max_len))\n",
    "model.add(Conv1D(filters=32, kernel_size=3, padding='same', activation='relu'))\n",
    "model.add(MaxPooling1D(pool_size=2))\n",
    "model.add(Bidirectional(LSTM(32)))\n",
    "model.add(Dropout(0.4))\n",
    "model.add(Dense(3, activation='softmax'))"
   ]
  },
  {
   "cell_type": "code",
   "execution_count": 27,
   "id": "9737c1dc",
   "metadata": {},
   "outputs": [
    {
     "name": "stdout",
     "output_type": "stream",
     "text": [
      "Model: \"sequential\"\n",
      "_________________________________________________________________\n",
      " Layer (type)                Output Shape              Param #   \n",
      "=================================================================\n",
      " embedding (Embedding)       (None, 50, 32)            160000    \n",
      "                                                                 \n",
      " conv1d (Conv1D)             (None, 50, 32)            3104      \n",
      "                                                                 \n",
      " max_pooling1d (MaxPooling1D  (None, 25, 32)           0         \n",
      " )                                                               \n",
      "                                                                 \n",
      " bidirectional (Bidirectiona  (None, 64)               16640     \n",
      " l)                                                              \n",
      "                                                                 \n",
      " dropout (Dropout)           (None, 64)                0         \n",
      "                                                                 \n",
      " dense (Dense)               (None, 3)                 195       \n",
      "                                                                 \n",
      "=================================================================\n",
      "Total params: 179,939\n",
      "Trainable params: 179,939\n",
      "Non-trainable params: 0\n",
      "_________________________________________________________________\n",
      "None\n",
      "Epoch 1/20\n",
      "377/377 [==============================] - 30s 50ms/step - loss: 1.0406 - accuracy: 0.4556 - precision: 0.5729 - recall: 0.1264 - val_loss: 0.9720 - val_accuracy: 0.5060 - val_precision: 0.6372 - val_recall: 0.2953\n",
      "Epoch 2/20\n",
      "377/377 [==============================] - 19s 49ms/step - loss: 0.9248 - accuracy: 0.5596 - precision: 0.6861 - recall: 0.3370 - val_loss: 0.9137 - val_accuracy: 0.5947 - val_precision: 0.6798 - val_recall: 0.4128\n",
      "Epoch 3/20\n",
      "377/377 [==============================] - 18s 48ms/step - loss: 0.8612 - accuracy: 0.6036 - precision: 0.6988 - recall: 0.4251 - val_loss: 0.8416 - val_accuracy: 0.6156 - val_precision: 0.7012 - val_recall: 0.4563\n",
      "Epoch 4/20\n",
      "377/377 [==============================] - 19s 51ms/step - loss: 0.8050 - accuracy: 0.6332 - precision: 0.7202 - recall: 0.4744 - val_loss: 0.7981 - val_accuracy: 0.6449 - val_precision: 0.7374 - val_recall: 0.4740\n",
      "Epoch 5/20\n",
      "377/377 [==============================] - 19s 51ms/step - loss: 0.7613 - accuracy: 0.6656 - precision: 0.7494 - recall: 0.5194 - val_loss: 0.7663 - val_accuracy: 0.6721 - val_precision: 0.7577 - val_recall: 0.5348\n",
      "Epoch 6/20\n",
      "377/377 [==============================] - 17s 46ms/step - loss: 0.7229 - accuracy: 0.6960 - precision: 0.7691 - recall: 0.5668 - val_loss: 0.7271 - val_accuracy: 0.7013 - val_precision: 0.7731 - val_recall: 0.5843\n",
      "Epoch 7/20\n",
      "377/377 [==============================] - 18s 48ms/step - loss: 0.6848 - accuracy: 0.7232 - precision: 0.7896 - recall: 0.6073 - val_loss: 0.7358 - val_accuracy: 0.7017 - val_precision: 0.7638 - val_recall: 0.6202\n",
      "Epoch 8/20\n",
      "377/377 [==============================] - 19s 49ms/step - loss: 0.6483 - accuracy: 0.7425 - precision: 0.8019 - recall: 0.6492 - val_loss: 0.6721 - val_accuracy: 0.7347 - val_precision: 0.7886 - val_recall: 0.6533\n",
      "Epoch 9/20\n",
      "377/377 [==============================] - 18s 48ms/step - loss: 0.6130 - accuracy: 0.7656 - precision: 0.8147 - recall: 0.6881 - val_loss: 0.6465 - val_accuracy: 0.7468 - val_precision: 0.7891 - val_recall: 0.6885\n",
      "Epoch 10/20\n",
      "377/377 [==============================] - 17s 45ms/step - loss: 0.5803 - accuracy: 0.7834 - precision: 0.8245 - recall: 0.7220 - val_loss: 0.6317 - val_accuracy: 0.7573 - val_precision: 0.7955 - val_recall: 0.7058\n",
      "Epoch 11/20\n",
      "377/377 [==============================] - 18s 48ms/step - loss: 0.5509 - accuracy: 0.7974 - precision: 0.8328 - recall: 0.7461 - val_loss: 0.6375 - val_accuracy: 0.7491 - val_precision: 0.7786 - val_recall: 0.7094\n",
      "Epoch 12/20\n",
      "377/377 [==============================] - 19s 50ms/step - loss: 0.5294 - accuracy: 0.8084 - precision: 0.8373 - recall: 0.7646 - val_loss: 0.6279 - val_accuracy: 0.7555 - val_precision: 0.7842 - val_recall: 0.7221\n",
      "Epoch 13/20\n",
      "377/377 [==============================] - 19s 49ms/step - loss: 0.5149 - accuracy: 0.8165 - precision: 0.8446 - recall: 0.7758 - val_loss: 0.6059 - val_accuracy: 0.7702 - val_precision: 0.7983 - val_recall: 0.7397\n",
      "Epoch 14/20\n",
      "377/377 [==============================] - 18s 47ms/step - loss: 0.4944 - accuracy: 0.8272 - precision: 0.8499 - recall: 0.7935 - val_loss: 0.6096 - val_accuracy: 0.7723 - val_precision: 0.7962 - val_recall: 0.7427\n",
      "Epoch 15/20\n",
      "377/377 [==============================] - 19s 49ms/step - loss: 0.4820 - accuracy: 0.8317 - precision: 0.8553 - recall: 0.8003 - val_loss: 0.5934 - val_accuracy: 0.7748 - val_precision: 0.8014 - val_recall: 0.7458\n",
      "Epoch 16/20\n",
      "377/377 [==============================] - 18s 49ms/step - loss: 0.4670 - accuracy: 0.8360 - precision: 0.8580 - recall: 0.8065 - val_loss: 0.5993 - val_accuracy: 0.7738 - val_precision: 0.7963 - val_recall: 0.7502\n",
      "Epoch 17/20\n",
      "377/377 [==============================] - 20s 52ms/step - loss: 0.4582 - accuracy: 0.8400 - precision: 0.8604 - recall: 0.8126 - val_loss: 0.6083 - val_accuracy: 0.7725 - val_precision: 0.7946 - val_recall: 0.7438\n",
      "Epoch 18/20\n",
      "377/377 [==============================] - 19s 49ms/step - loss: 0.4474 - accuracy: 0.8459 - precision: 0.8660 - recall: 0.8197 - val_loss: 0.5992 - val_accuracy: 0.7774 - val_precision: 0.7959 - val_recall: 0.7501\n",
      "Epoch 19/20\n",
      "377/377 [==============================] - 17s 44ms/step - loss: 0.4332 - accuracy: 0.8526 - precision: 0.8709 - recall: 0.8283 - val_loss: 0.6551 - val_accuracy: 0.7562 - val_precision: 0.7746 - val_recall: 0.7314\n",
      "Epoch 20/20\n",
      "377/377 [==============================] - 17s 46ms/step - loss: 0.4253 - accuracy: 0.8527 - precision: 0.8708 - recall: 0.8313 - val_loss: 0.5952 - val_accuracy: 0.7800 - val_precision: 0.7986 - val_recall: 0.7573\n"
     ]
    }
   ],
   "source": [
    "print(model.summary())\n",
    "\n",
    "# Compile model\n",
    "model.compile(loss='categorical_crossentropy', optimizer=sgd, \n",
    "               metrics=['accuracy', Precision(), Recall()])\n",
    "\n",
    "# Train model\n",
    "\n",
    "batch_size = 64\n",
    "history = model.fit(X_train, y_train,\n",
    "                      validation_data=(X_val, y_val),\n",
    "                      batch_size=batch_size, epochs=epochs, verbose=1)"
   ]
  },
  {
   "cell_type": "code",
   "execution_count": 28,
   "id": "29ccde96",
   "metadata": {},
   "outputs": [
    {
     "name": "stdout",
     "output_type": "stream",
     "text": [
      "\n",
      "Accuracy  : 0.7737\n",
      "Precision : 0.7907\n",
      "Recall    : 0.7487\n",
      "F1 Score  : 0.7691\n"
     ]
    }
   ],
   "source": [
    "# Evaluate model on the test set\n",
    "loss, accuracy, precision, recall = model.evaluate(X_test, y_test, verbose=0)\n",
    "# Print metrics\n",
    "print('')\n",
    "print('Accuracy  : {:.4f}'.format(accuracy))\n",
    "print('Precision : {:.4f}'.format(precision))\n",
    "print('Recall    : {:.4f}'.format(recall))\n",
    "print('F1 Score  : {:.4f}'.format(f1_score(precision, recall)))"
   ]
  },
  {
   "cell_type": "code",
   "execution_count": 29,
   "id": "57e637f1",
   "metadata": {},
   "outputs": [
    {
     "data": {
      "image/png": "[encoded data removed]",
      "text/plain": [
       "<Figure size 1000x400 with 2 Axes>"
      ]
     },
     "metadata": {},
     "output_type": "display_data"
    }
   ],
   "source": [
    "def plot_training_hist(history):\n",
    "    '''Function to plot history for accuracy and loss'''\n",
    "    \n",
    "    fig, ax = plt.subplots(1, 2, figsize=(10,4))\n",
    "    # first plot\n",
    "    ax[0].plot(history.history['accuracy'])\n",
    "    ax[0].plot(history.history['val_accuracy'])\n",
    "    ax[0].set_title('Model Accuracy')\n",
    "    ax[0].set_xlabel('epoch')\n",
    "    ax[0].set_ylabel('accuracy')\n",
    "    ax[0].legend(['train', 'validation'], loc='best')\n",
    "    # second plot\n",
    "    ax[1].plot(history.history['loss'])\n",
    "    ax[1].plot(history.history['val_loss'])\n",
    "    ax[1].set_title('Model Loss')\n",
    "    ax[1].set_xlabel('epoch')\n",
    "    ax[1].set_ylabel('loss')\n",
    "    ax[1].legend(['train', 'validation'], loc='best')\n",
    "    \n",
    "plot_training_hist(history)"
   ]
  },
  {
   "cell_type": "code",
   "execution_count": 30,
   "id": "4852ad5b",
   "metadata": {},
   "outputs": [
    {
     "name": "stdout",
     "output_type": "stream",
     "text": [
      "251/251 [==============================] - 4s 10ms/step\n"
     ]
    },
    {
     "data": {
      "image/png": "[encoded data removed]",
      "text/plain": [
       "<Figure size 800x600 with 2 Axes>"
      ]
     },
     "metadata": {},
     "output_type": "display_data"
    }
   ],
   "source": [
    "from sklearn.metrics import confusion_matrix\n",
    "\n",
    "def plot_confusion_matrix(model, X_test, y_test):\n",
    "    '''Function to plot confusion matrix for the passed model and the data'''\n",
    "    \n",
    "    sentiment_classes = ['Negative', 'Neutral', 'Positive']\n",
    "    # use model to do the prediction\n",
    "    y_pred = model.predict(X_test)\n",
    "    # compute confusion matrix\n",
    "    cm = confusion_matrix(np.argmax(np.array(y_test),axis=1), np.argmax(y_pred, axis=1))\n",
    "    # plot confusion matrix\n",
    "    plt.figure(figsize=(8,6))\n",
    "    sns.heatmap(cm, cmap=plt.cm.Blues, annot=True, fmt='d', \n",
    "                xticklabels=sentiment_classes,\n",
    "                yticklabels=sentiment_classes)\n",
    "    plt.title('Confusion matrix', fontsize=16)\n",
    "    plt.xlabel('Actual label', fontsize=12)\n",
    "    plt.ylabel('Predicted label', fontsize=12)\n",
    "    \n",
    "plot_confusion_matrix(model, X_test, y_test)"
   ]
  },
  {
   "cell_type": "code",
   "execution_count": 31,
   "id": "f8c8b7b4",
   "metadata": {},
   "outputs": [
    {
     "name": "stdout",
     "output_type": "stream",
     "text": [
      "Best model saved\n"
     ]
    }
   ],
   "source": [
    "# Save the model architecture & the weights\n",
    "model.save('best_model.h5')\n",
    "print('Best model saved')"
   ]
  },
  {
   "cell_type": "code",
   "execution_count": 32,
   "id": "8cd705d9",
   "metadata": {},
   "outputs": [],
   "source": [
    "from keras.models import load_model\n",
    "\n",
    "# Load model\n",
    "model = load_model('best_model.h5')\n",
    "\n",
    "def predict_class(text):\n",
    "    '''Function to predict sentiment class of the passed text'''\n",
    "    \n",
    "    sentiment_classes = ['Negative', 'Neutral', 'Positive']\n",
    "    max_len=50\n",
    "    \n",
    "    # Transforms text to a sequence of integers using a tokenizer object\n",
    "    xt = tokenizer.texts_to_sequences(text)\n",
    "    # Pad sequences to the same length\n",
    "    xt = pad_sequences(xt, padding='post', maxlen=max_len)\n",
    "    # Do the prediction using the loaded model\n",
    "    yt = model.predict(xt).argmax(axis=1)\n",
    "    # Print the predicted sentiment\n",
    "    print('The predicted sentiment of the tweet is', sentiment_classes[yt[0]])"
   ]
  },
  {
   "cell_type": "code",
   "execution_count": 55,
   "id": "835c9437",
   "metadata": {},
   "outputs": [
    {
     "name": "stdout",
     "output_type": "stream",
     "text": [
      "1/1 [==============================] - 1s 1s/step\n",
      "The predicted sentiment of the tweet is Negative\n"
     ]
    }
   ],
   "source": [
    "predict_class(['\"I hate when I have to call and wake people up'])"
   ]
  },
  {
   "cell_type": "code",
   "execution_count": 68,
   "id": "daec1c10",
   "metadata": {},
   "outputs": [
    {
     "name": "stdout",
     "output_type": "stream",
     "text": [
      "1/1 [==============================] - 0s 40ms/step\n",
      "The predicted sentiment of the tweet is Neutral\n"
     ]
    }
   ],
   "source": [
    "predict_class(['I am a big fan of Argentina'])"
   ]
  },
  {
   "cell_type": "code",
   "execution_count": 34,
   "id": "8d3b69d8",
   "metadata": {},
   "outputs": [],
   "source": [
    "import tweepy as tw\n",
    "from tweepy import OAuth1UserHandler, API\n",
    "\n",
    "#Getting authorization\n",
    "CONSUMER_KEY = 'MnYGqwr5bielOmBNomvzzSsmd'\n",
    "CONSUMER_SECRET = 'nopkuReuWnK6anNDzA0OlCVb7qe0PKjalfkl92jhWBSoV5qDi2'\n",
    "ACCESS_KEY = '816950453124464640-rVg7obI2s5Go3iYAcToScotHK8d8NI2'\n",
    "ACCESS_SECRET = 'oIKXfzPuxfyZbYr1NfJ4840HCULqKQZgtXTLDNtXrNloB'\n",
    "\n",
    "auth = OAuth1UserHandler(CONSUMER_KEY, CONSUMER_SECRET, ACCESS_KEY, ACCESS_SECRET)\n",
    "api = API(auth)"
   ]
  },
  {
   "cell_type": "code",
   "execution_count": 81,
   "id": "3c1d6eca",
   "metadata": {},
   "outputs": [],
   "source": [
    "QUERY = \"Trader Joe's\"\n",
    "tweets = api.search_tweets(QUERY, lang=\"en\", tweet_mode=\"extended\", count=10, result_type=\"recent\")"
   ]
  },
  {
   "cell_type": "code",
   "execution_count": 82,
   "id": "2c93d7ec",
   "metadata": {},
   "outputs": [
    {
     "name": "stdout",
     "output_type": "stream",
     "text": [
      "I just entered to win the Trader Joe's Holiday Favorites Giveaway from @theramblingjen #giveaway https://t.co/oneHngO6kB\n",
      "1/1 [==============================] - 0s 17ms/step\n",
      "The predicted sentiment of the tweet is Positive\n",
      "None\n",
      "---------------\n",
      "I’ve never been punched in the nuts,but I have gone to Trader Joe’s only to find my favorites have been discontinued.. so.. samesies!\n",
      "1/1 [==============================] - 0s 46ms/step\n",
      "The predicted sentiment of the tweet is Negative\n",
      "None\n",
      "---------------\n",
      "this Trader Joe’s cold brew is getting me through finals\n",
      "1/1 [==============================] - 0s 34ms/step\n",
      "The predicted sentiment of the tweet is Negative\n",
      "None\n",
      "---------------\n",
      "@EmilioEmm The Trader Joe's jokes 😂\n",
      "1/1 [==============================] - 0s 31ms/step\n",
      "The predicted sentiment of the tweet is Negative\n",
      "None\n",
      "---------------\n",
      "Trader Joe’s cookie butter ice cream for the mf wiiinnnnn !! 🔥\n",
      "1/1 [==============================] - 0s 36ms/step\n",
      "The predicted sentiment of the tweet is Neutral\n",
      "None\n",
      "---------------\n",
      "I’ve gone to different Trader Joe’s in Santa Monica 3 times this week and they have all been basically out of salads. I need to know what’s going on!\n",
      "1/1 [==============================] - 0s 42ms/step\n",
      "The predicted sentiment of the tweet is Neutral\n",
      "None\n",
      "---------------\n",
      "@thesherylralph Trader Joe's has a very nice spicy ginger cookie. It has chunks of crystallized ginger in it.\n",
      "1/1 [==============================] - 0s 52ms/step\n",
      "The predicted sentiment of the tweet is Positive\n",
      "None\n",
      "---------------\n",
      "@_nolanii me w the potato curls from trader joe’s i crave them everytime i smoke\n",
      "1/1 [==============================] - 0s 47ms/step\n",
      "The predicted sentiment of the tweet is Negative\n",
      "None\n",
      "---------------\n",
      "@thesherylralph Try the Triple Ginger cookies from Trader Joe’s. Delicious.\n",
      "1/1 [==============================] - 0s 39ms/step\n",
      "The predicted sentiment of the tweet is Neutral\n",
      "None\n",
      "---------------\n",
      "I’ve gone to the SL Trader Joe’s once since moving up to LA and I’ve never gone back. I will literally go to any other TJ’s. https://t.co/4WwquHjV4S\n",
      "1/1 [==============================] - 0s 48ms/step\n",
      "The predicted sentiment of the tweet is Negative\n",
      "None\n",
      "---------------\n"
     ]
    }
   ],
   "source": [
    "for tweet in tweets:\n",
    "    print(tweet.full_text)\n",
    "    print(predict_class([tweet.full_text]))\n",
    "    print(\"-\"*15)"
   ]
  },
  {
   "cell_type": "code",
   "execution_count": null,
   "id": "1d076ab5",
   "metadata": {},
   "outputs": [],
   "source": []
  }
 ],
 "metadata": {
  "kernelspec": {
   "display_name": "Python 3 (ipykernel)",
   "language": "python",
   "name": "python3"
  },
  "language_info": {
   "codemirror_mode": {
    "name": "ipython",
    "version": 3
   },
   "file_extension": ".py",
   "mimetype": "text/x-python",
   "name": "python",
   "nbconvert_exporter": "python",
   "pygments_lexer": "ipython3",
   "version": "3.9.13"
  }
 },
 "nbformat": 4,
 "nbformat_minor": 5
}
