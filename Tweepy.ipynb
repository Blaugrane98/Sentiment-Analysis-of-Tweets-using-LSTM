{
 "cells": [
  {
   "cell_type": "code",
   "execution_count": 11,
   "id": "40a6822b",
   "metadata": {},
   "outputs": [],
   "source": [
    "import tweepy as tw\n",
    "from tweepy import OAuth1UserHandler, API\n",
    "\n",
    "#Getting authorization\n",
    "CONSUMER_KEY = 'MnYGqwr5bielOmBNomvzzSsmd'\n",
    "CONSUMER_SECRET = 'nopkuReuWnK6anNDzA0OlCVb7qe0PKjalfkl92jhWBSoV5qDi2'\n",
    "ACCESS_KEY = '816950453124464640-rVg7obI2s5Go3iYAcToScotHK8d8NI2'\n",
    "ACCESS_SECRET = 'oIKXfzPuxfyZbYr1NfJ4840HCULqKQZgtXTLDNtXrNloB'\n",
    "\n",
    "auth = OAuth1UserHandler(CONSUMER_KEY, CONSUMER_SECRET, ACCESS_KEY, ACCESS_SECRET)\n",
    "api = API(auth)"
   ]
  },
  {
   "cell_type": "code",
   "execution_count": 16,
   "id": "72b23a88",
   "metadata": {},
   "outputs": [],
   "source": [
    "QUERY = \"Walmart\"\n",
    "tweets = api.search_tweets(QUERY, lang=\"en\", tweet_mode=\"extended\", count=10, result_type=\"recent\")"
   ]
  },
  {
   "cell_type": "code",
   "execution_count": 17,
   "id": "e61821a9",
   "metadata": {},
   "outputs": [
    {
     "name": "stdout",
     "output_type": "stream",
     "text": [
      "@MattWalshBlog The Walmart shooting disappeared from the media, as soon as it was known that the shooter was a black man, with a legally purchased hand gun.\n",
      "---------------\n",
      "RT @ChidiNwatu: @Jim_Jordan There were mass shootings at the Florida A&amp;M University campus Sunday afternoon, Chesapeake Walmart, VA and Col…\n",
      "---------------\n",
      "Was in Walmart today, asked a texting lady blocking the lettuce to excuse me so I could get a head of lettuce.  She responded with \"there is no excuse for you\"   I wont tell you my response.  It was unlady like.  What is the world coming to?  She was at least 70!\n",
      "---------------\n",
      "RT @shelbwadsworth: Walmart feels like a fever dream https://t.co/03fYibWYt1\n",
      "---------------\n",
      "RT @totalmadness101: @Walmart running a black Friday sale for #GothamKnights so had to get it.\n",
      "Check out an support me on: https://t.co/GfK…\n",
      "---------------\n",
      "@ask_aubry Men have def told me stories about being accosted in the bathroom by random weirdoes while they were peeing lol My old coworker told me while he was at a urinal at Walmart an older dude was soliciting him for \"massages\"\n",
      "---------------\n",
      "There is a joke about a non-Jew who wants to join a Jewish-only country club, so he claims to make tallitot. \n",
      "\n",
      "This Walmart listing reminds me of that joke. https://t.co/GoSl4PWqUE\n",
      "---------------\n",
      "@nathaliejacoby1 Walmart\n",
      "---------------\n",
      "@Leslieoo7 @MattWallace888 They’re also #1 when ranked by earnings and #3 when ranked by revenue - behind Walmart and Amazon. Tesla can be measured in fractions of Apple’s performance.\n",
      "---------------\n",
      "White Walmart employee, in Moreno Valley, CA, confronts Black customer, accusing him of stealing, before cursing him out and calling him racial slurs [VIDEO] https://t.co/zQMtirTKBb\n",
      "---------------\n"
     ]
    }
   ],
   "source": [
    "for tweet in tweets:\n",
    "    print(tweet.full_text)\n",
    "    print(\"-\"*15)"
   ]
  },
  {
   "cell_type": "code",
   "execution_count": null,
   "id": "ad9d111d",
   "metadata": {},
   "outputs": [],
   "source": []
  }
 ],
 "metadata": {
  "kernelspec": {
   "display_name": "Python 3 (ipykernel)",
   "language": "python",
   "name": "python3"
  },
  "language_info": {
   "codemirror_mode": {
    "name": "ipython",
    "version": 3
   },
   "file_extension": ".py",
   "mimetype": "text/x-python",
   "name": "python",
   "nbconvert_exporter": "python",
   "pygments_lexer": "ipython3",
   "version": "3.9.13"
  }
 },
 "nbformat": 4,
 "nbformat_minor": 5
}
